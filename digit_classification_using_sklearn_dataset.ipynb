{
  "nbformat": 4,
  "nbformat_minor": 0,
  "metadata": {
    "colab": {
      "provenance": [],
      "authorship_tag": "ABX9TyNCfY9tbJZ9cxOek+4//xrN",
      "include_colab_link": true
    },
    "kernelspec": {
      "name": "python3",
      "display_name": "Python 3"
    },
    "language_info": {
      "name": "python"
    }
  },
  "cells": [
    {
      "cell_type": "markdown",
      "metadata": {
        "id": "view-in-github",
        "colab_type": "text"
      },
      "source": [
        "<a href=\"https://colab.research.google.com/github/Sifath100/Digit-recognition-system/blob/main/digit_classification_using_sklearn_dataset.ipynb\" target=\"_parent\"><img src=\"https://colab.research.google.com/assets/colab-badge.svg\" alt=\"Open In Colab\"/></a>"
      ]
    },
    {
      "cell_type": "code",
      "execution_count": null,
      "metadata": {
        "id": "G9AT1dh-gUu4"
      },
      "outputs": [],
      "source": [
        "import tensorflow as tf\n",
        "from tensorflow import keras\n",
        "from sklearn.datasets import load_digits\n",
        "from sklearn.model_selection import train_test_split\n",
        "import numpy as np\n",
        "\n",
        "# we have used sklearn digit dataset\n",
        "# It loads a different dataset containing images of handwritten digits, where each image is 8x8 pixels in size, and the target variable is an integer representing the actual digit that the image represents (i.e., a digit from 0 to 9). This dataset is often used as a simpler alternative to the MNIST dataset for image classification tasks, as the images are smaller and simpler than the images in the MNIST dataset. The MNIST dataset, on the other hand, contains 28x28 pixel images of handwritten digits and is a more challenging dataset for image classification tasks."
      ]
    },
    {
      "cell_type": "code",
      "source": [
        "#loading the dataset\n",
        "digits=load_digits()"
      ],
      "metadata": {
        "id": "1wF5zl4ziLUE"
      },
      "execution_count": null,
      "outputs": []
    },
    {
      "cell_type": "code",
      "source": [
        "x_train,x_test,y_train,y_test=train_test_split(digits.data,digits.target,test_size=0.2)"
      ],
      "metadata": {
        "id": "21oG0sm5iVhG"
      },
      "execution_count": null,
      "outputs": []
    },
    {
      "cell_type": "code",
      "source": [
        "#now we reshape the data\n",
        "x_train=x_train.reshape(-1,8,8,1)\n",
        "x_test=x_test.reshape(-1,8,8,1)"
      ],
      "metadata": {
        "id": "UeRMCr54kjeG"
      },
      "execution_count": null,
      "outputs": []
    },
    {
      "cell_type": "code",
      "source": [
        "#the grayscale varies from 0-255 lets normalize it to 0-1\n",
        "x_train=x_train/255\n",
        "x_test=x_test/255"
      ],
      "metadata": {
        "id": "3X5CamWCoTXz"
      },
      "execution_count": null,
      "outputs": []
    },
    {
      "cell_type": "code",
      "source": [
        "#preprocessing the data is completed\n",
        "\n",
        "#now we define categories of our classes using to_categorical\n",
        "\n",
        "y_train=keras.utils.to_categorical(y_train,num_classes=10)\n",
        "y_test=keras.utils.to_categorical(y_test,num_classes=10)"
      ],
      "metadata": {
        "id": "vOjUzeTvorTi"
      },
      "execution_count": null,
      "outputs": []
    },
    {
      "cell_type": "code",
      "source": [
        "#now we select the model / architecture\n",
        "#adding the layers\n",
        "model=keras.Sequential(\n",
        "    [\n",
        "        keras.layers.Conv2D(32,kernel_size=(3,3),activation='relu',input_shape=(8,8,1)),\n",
        "        keras.layers.MaxPooling2D(pool_size=(2,2)),\n",
        "        keras.layers.Flatten(),\n",
        "        keras.layers.Dense(128,activation='relu'),\n",
        "        keras.layers.Dense(10,activation='softmax')\n",
        "    ]\n",
        "\n",
        ")"
      ],
      "metadata": {
        "id": "KxnOGc50uv25"
      },
      "execution_count": null,
      "outputs": []
    },
    {
      "cell_type": "code",
      "source": [
        "model.compile(optimizer='adam',loss='categorical_crossentropy',metrics=['accuracy'])\n"
      ],
      "metadata": {
        "id": "YwUAK__dwDeu"
      },
      "execution_count": null,
      "outputs": []
    },
    {
      "cell_type": "code",
      "source": [
        "model.fit(x_train,y_train,epochs=10,batch_size=32,validation_data=(x_test,y_test))"
      ],
      "metadata": {
        "colab": {
          "base_uri": "https://localhost:8080/"
        },
        "id": "nDc1fAdNwU7o",
        "outputId": "52f6d2a9-ecbb-496b-ccd2-35497265e113"
      },
      "execution_count": null,
      "outputs": [
        {
          "output_type": "stream",
          "name": "stdout",
          "text": [
            "Epoch 1/10\n",
            "45/45 [==============================] - 2s 10ms/step - loss: 2.2816 - accuracy: 0.3340 - val_loss: 2.2476 - val_accuracy: 0.4972\n",
            "Epoch 2/10\n",
            "45/45 [==============================] - 0s 5ms/step - loss: 2.1778 - accuracy: 0.5365 - val_loss: 2.0687 - val_accuracy: 0.6861\n",
            "Epoch 3/10\n",
            "45/45 [==============================] - 0s 4ms/step - loss: 1.8873 - accuracy: 0.7349 - val_loss: 1.6632 - val_accuracy: 0.7694\n",
            "Epoch 4/10\n",
            "45/45 [==============================] - 0s 5ms/step - loss: 1.4072 - accuracy: 0.8072 - val_loss: 1.1597 - val_accuracy: 0.8611\n",
            "Epoch 5/10\n",
            "45/45 [==============================] - 0s 5ms/step - loss: 0.9774 - accuracy: 0.8671 - val_loss: 0.8209 - val_accuracy: 0.8472\n",
            "Epoch 6/10\n",
            "45/45 [==============================] - 0s 6ms/step - loss: 0.7241 - accuracy: 0.8650 - val_loss: 0.6199 - val_accuracy: 0.8944\n",
            "Epoch 7/10\n",
            "45/45 [==============================] - 0s 6ms/step - loss: 0.5733 - accuracy: 0.8921 - val_loss: 0.5314 - val_accuracy: 0.9000\n",
            "Epoch 8/10\n",
            "45/45 [==============================] - 0s 4ms/step - loss: 0.4813 - accuracy: 0.8935 - val_loss: 0.4346 - val_accuracy: 0.9139\n",
            "Epoch 9/10\n",
            "45/45 [==============================] - 0s 6ms/step - loss: 0.4164 - accuracy: 0.9109 - val_loss: 0.4026 - val_accuracy: 0.9000\n",
            "Epoch 10/10\n",
            "45/45 [==============================] - 0s 6ms/step - loss: 0.3748 - accuracy: 0.9137 - val_loss: 0.3518 - val_accuracy: 0.9056\n"
          ]
        },
        {
          "output_type": "execute_result",
          "data": {
            "text/plain": [
              "<keras.callbacks.History at 0x7f1e61427c40>"
            ]
          },
          "metadata": {},
          "execution_count": 11
        }
      ]
    },
    {
      "cell_type": "code",
      "source": [
        "loss,accuracy=model.evaluate(x_test,y_test)"
      ],
      "metadata": {
        "colab": {
          "base_uri": "https://localhost:8080/"
        },
        "id": "kNOSUTLZwiWg",
        "outputId": "4afc7330-dab8-41db-9d34-c6499ab3434b"
      },
      "execution_count": null,
      "outputs": [
        {
          "output_type": "stream",
          "name": "stdout",
          "text": [
            "12/12 [==============================] - 0s 2ms/step - loss: 0.3518 - accuracy: 0.9056\n"
          ]
        }
      ]
    },
    {
      "cell_type": "code",
      "source": [
        "accuracy"
      ],
      "metadata": {
        "colab": {
          "base_uri": "https://localhost:8080/"
        },
        "id": "MrjQeY2Cwqrq",
        "outputId": "c2b04251-c2d7-451e-fc84-a5a282dbe029"
      },
      "execution_count": null,
      "outputs": [
        {
          "output_type": "execute_result",
          "data": {
            "text/plain": [
              "0.9055555462837219"
            ]
          },
          "metadata": {},
          "execution_count": 13
        }
      ]
    },
    {
      "cell_type": "code",
      "source": [
        "#lets try improving the accuracy"
      ],
      "metadata": {
        "id": "1_IhOASKwuHg"
      },
      "execution_count": null,
      "outputs": []
    },
    {
      "cell_type": "code",
      "source": [
        "#increase number of epochs\n",
        "model.fit(x_train,y_train,epochs=50,batch_size=32,validation_data=(x_test,y_test))"
      ],
      "metadata": {
        "colab": {
          "base_uri": "https://localhost:8080/"
        },
        "id": "eywsjrppzloC",
        "outputId": "3045d4cf-6ffc-450e-8464-8a91509ac796"
      },
      "execution_count": null,
      "outputs": [
        {
          "output_type": "stream",
          "name": "stdout",
          "text": [
            "Epoch 1/50\n",
            "45/45 [==============================] - 1s 16ms/step - loss: 0.3374 - accuracy: 0.9193 - val_loss: 0.3180 - val_accuracy: 0.9111\n",
            "Epoch 2/50\n",
            "45/45 [==============================] - 0s 5ms/step - loss: 0.2995 - accuracy: 0.9283 - val_loss: 0.2836 - val_accuracy: 0.9222\n",
            "Epoch 3/50\n",
            "45/45 [==============================] - 0s 4ms/step - loss: 0.2815 - accuracy: 0.9297 - val_loss: 0.2620 - val_accuracy: 0.9333\n",
            "Epoch 4/50\n",
            "45/45 [==============================] - 0s 5ms/step - loss: 0.2608 - accuracy: 0.9304 - val_loss: 0.2534 - val_accuracy: 0.9278\n",
            "Epoch 5/50\n",
            "45/45 [==============================] - 0s 5ms/step - loss: 0.2419 - accuracy: 0.9339 - val_loss: 0.2181 - val_accuracy: 0.9417\n",
            "Epoch 6/50\n",
            "45/45 [==============================] - 0s 4ms/step - loss: 0.2229 - accuracy: 0.9408 - val_loss: 0.2078 - val_accuracy: 0.9472\n",
            "Epoch 7/50\n",
            "45/45 [==============================] - 0s 6ms/step - loss: 0.2134 - accuracy: 0.9478 - val_loss: 0.2058 - val_accuracy: 0.9417\n",
            "Epoch 8/50\n",
            "45/45 [==============================] - 0s 6ms/step - loss: 0.1972 - accuracy: 0.9520 - val_loss: 0.1961 - val_accuracy: 0.9444\n",
            "Epoch 9/50\n",
            "45/45 [==============================] - 0s 5ms/step - loss: 0.1879 - accuracy: 0.9534 - val_loss: 0.1757 - val_accuracy: 0.9556\n",
            "Epoch 10/50\n",
            "45/45 [==============================] - 0s 4ms/step - loss: 0.1775 - accuracy: 0.9541 - val_loss: 0.1824 - val_accuracy: 0.9472\n",
            "Epoch 11/50\n",
            "45/45 [==============================] - 0s 4ms/step - loss: 0.1696 - accuracy: 0.9582 - val_loss: 0.1667 - val_accuracy: 0.9556\n",
            "Epoch 12/50\n",
            "45/45 [==============================] - 0s 4ms/step - loss: 0.1596 - accuracy: 0.9610 - val_loss: 0.1764 - val_accuracy: 0.9444\n",
            "Epoch 13/50\n",
            "45/45 [==============================] - 0s 5ms/step - loss: 0.1523 - accuracy: 0.9610 - val_loss: 0.1594 - val_accuracy: 0.9500\n",
            "Epoch 14/50\n",
            "45/45 [==============================] - 0s 6ms/step - loss: 0.1482 - accuracy: 0.9562 - val_loss: 0.1482 - val_accuracy: 0.9611\n",
            "Epoch 15/50\n",
            "45/45 [==============================] - 0s 4ms/step - loss: 0.1422 - accuracy: 0.9645 - val_loss: 0.1474 - val_accuracy: 0.9583\n",
            "Epoch 16/50\n",
            "45/45 [==============================] - 0s 4ms/step - loss: 0.1349 - accuracy: 0.9680 - val_loss: 0.1394 - val_accuracy: 0.9583\n",
            "Epoch 17/50\n",
            "45/45 [==============================] - 0s 5ms/step - loss: 0.1284 - accuracy: 0.9666 - val_loss: 0.1320 - val_accuracy: 0.9556\n",
            "Epoch 18/50\n",
            "45/45 [==============================] - 0s 5ms/step - loss: 0.1237 - accuracy: 0.9722 - val_loss: 0.1289 - val_accuracy: 0.9611\n",
            "Epoch 19/50\n",
            "45/45 [==============================] - 0s 5ms/step - loss: 0.1193 - accuracy: 0.9680 - val_loss: 0.1320 - val_accuracy: 0.9639\n",
            "Epoch 20/50\n",
            "45/45 [==============================] - 0s 5ms/step - loss: 0.1196 - accuracy: 0.9687 - val_loss: 0.1204 - val_accuracy: 0.9722\n",
            "Epoch 21/50\n",
            "45/45 [==============================] - 0s 4ms/step - loss: 0.1108 - accuracy: 0.9694 - val_loss: 0.1162 - val_accuracy: 0.9694\n",
            "Epoch 22/50\n",
            "45/45 [==============================] - 0s 5ms/step - loss: 0.1043 - accuracy: 0.9749 - val_loss: 0.1331 - val_accuracy: 0.9528\n",
            "Epoch 23/50\n",
            "45/45 [==============================] - 0s 5ms/step - loss: 0.1033 - accuracy: 0.9736 - val_loss: 0.1282 - val_accuracy: 0.9528\n",
            "Epoch 24/50\n",
            "45/45 [==============================] - 0s 4ms/step - loss: 0.1021 - accuracy: 0.9729 - val_loss: 0.1140 - val_accuracy: 0.9722\n",
            "Epoch 25/50\n",
            "45/45 [==============================] - 0s 4ms/step - loss: 0.0994 - accuracy: 0.9722 - val_loss: 0.1143 - val_accuracy: 0.9583\n",
            "Epoch 26/50\n",
            "45/45 [==============================] - 0s 4ms/step - loss: 0.0927 - accuracy: 0.9784 - val_loss: 0.1147 - val_accuracy: 0.9528\n",
            "Epoch 27/50\n",
            "45/45 [==============================] - 0s 5ms/step - loss: 0.0896 - accuracy: 0.9805 - val_loss: 0.1087 - val_accuracy: 0.9583\n",
            "Epoch 28/50\n",
            "45/45 [==============================] - 0s 5ms/step - loss: 0.0849 - accuracy: 0.9798 - val_loss: 0.1075 - val_accuracy: 0.9667\n",
            "Epoch 29/50\n",
            "45/45 [==============================] - 0s 6ms/step - loss: 0.0815 - accuracy: 0.9805 - val_loss: 0.0995 - val_accuracy: 0.9722\n",
            "Epoch 30/50\n",
            "45/45 [==============================] - 0s 4ms/step - loss: 0.0805 - accuracy: 0.9819 - val_loss: 0.0990 - val_accuracy: 0.9722\n",
            "Epoch 31/50\n",
            "45/45 [==============================] - 0s 4ms/step - loss: 0.0770 - accuracy: 0.9805 - val_loss: 0.0919 - val_accuracy: 0.9694\n",
            "Epoch 32/50\n",
            "45/45 [==============================] - 0s 5ms/step - loss: 0.0765 - accuracy: 0.9791 - val_loss: 0.1053 - val_accuracy: 0.9778\n",
            "Epoch 33/50\n",
            "45/45 [==============================] - 0s 7ms/step - loss: 0.0736 - accuracy: 0.9798 - val_loss: 0.1009 - val_accuracy: 0.9694\n",
            "Epoch 34/50\n",
            "45/45 [==============================] - 0s 7ms/step - loss: 0.0711 - accuracy: 0.9812 - val_loss: 0.0901 - val_accuracy: 0.9750\n",
            "Epoch 35/50\n",
            "45/45 [==============================] - 0s 7ms/step - loss: 0.0669 - accuracy: 0.9847 - val_loss: 0.0953 - val_accuracy: 0.9694\n",
            "Epoch 36/50\n",
            "45/45 [==============================] - 0s 7ms/step - loss: 0.0668 - accuracy: 0.9840 - val_loss: 0.0904 - val_accuracy: 0.9750\n",
            "Epoch 37/50\n",
            "45/45 [==============================] - 0s 7ms/step - loss: 0.0658 - accuracy: 0.9854 - val_loss: 0.0899 - val_accuracy: 0.9667\n",
            "Epoch 38/50\n",
            "45/45 [==============================] - 0s 7ms/step - loss: 0.0612 - accuracy: 0.9868 - val_loss: 0.0881 - val_accuracy: 0.9694\n",
            "Epoch 39/50\n",
            "45/45 [==============================] - 0s 8ms/step - loss: 0.0593 - accuracy: 0.9875 - val_loss: 0.0864 - val_accuracy: 0.9667\n",
            "Epoch 40/50\n",
            "45/45 [==============================] - 0s 8ms/step - loss: 0.0565 - accuracy: 0.9882 - val_loss: 0.0848 - val_accuracy: 0.9806\n",
            "Epoch 41/50\n",
            "45/45 [==============================] - 0s 5ms/step - loss: 0.0531 - accuracy: 0.9889 - val_loss: 0.0918 - val_accuracy: 0.9722\n",
            "Epoch 42/50\n",
            "45/45 [==============================] - 0s 4ms/step - loss: 0.0552 - accuracy: 0.9882 - val_loss: 0.0970 - val_accuracy: 0.9639\n",
            "Epoch 43/50\n",
            "45/45 [==============================] - 0s 6ms/step - loss: 0.0571 - accuracy: 0.9840 - val_loss: 0.0841 - val_accuracy: 0.9722\n",
            "Epoch 44/50\n",
            "45/45 [==============================] - 0s 4ms/step - loss: 0.0501 - accuracy: 0.9889 - val_loss: 0.0762 - val_accuracy: 0.9778\n",
            "Epoch 45/50\n",
            "45/45 [==============================] - 0s 5ms/step - loss: 0.0497 - accuracy: 0.9875 - val_loss: 0.0858 - val_accuracy: 0.9694\n",
            "Epoch 46/50\n",
            "45/45 [==============================] - 0s 4ms/step - loss: 0.0458 - accuracy: 0.9923 - val_loss: 0.0788 - val_accuracy: 0.9778\n",
            "Epoch 47/50\n",
            "45/45 [==============================] - 0s 5ms/step - loss: 0.0460 - accuracy: 0.9923 - val_loss: 0.0841 - val_accuracy: 0.9694\n",
            "Epoch 48/50\n",
            "45/45 [==============================] - 0s 5ms/step - loss: 0.0465 - accuracy: 0.9903 - val_loss: 0.0845 - val_accuracy: 0.9722\n",
            "Epoch 49/50\n",
            "45/45 [==============================] - 0s 4ms/step - loss: 0.0405 - accuracy: 0.9923 - val_loss: 0.0733 - val_accuracy: 0.9778\n",
            "Epoch 50/50\n",
            "45/45 [==============================] - 0s 4ms/step - loss: 0.0408 - accuracy: 0.9923 - val_loss: 0.0757 - val_accuracy: 0.9778\n"
          ]
        },
        {
          "output_type": "execute_result",
          "data": {
            "text/plain": [
              "<keras.callbacks.History at 0x7f1e523c1630>"
            ]
          },
          "metadata": {},
          "execution_count": 15
        }
      ]
    },
    {
      "cell_type": "code",
      "source": [
        "loss,accuracy=model.evaluate(x_test,y_test)\n",
        "accuracy"
      ],
      "metadata": {
        "colab": {
          "base_uri": "https://localhost:8080/"
        },
        "id": "NREdrmMGzs0N",
        "outputId": "04264517-c350-4fc6-e224-9270e1fd79be"
      },
      "execution_count": null,
      "outputs": [
        {
          "output_type": "stream",
          "name": "stdout",
          "text": [
            "12/12 [==============================] - 0s 2ms/step - loss: 0.0757 - accuracy: 0.9778\n"
          ]
        },
        {
          "output_type": "execute_result",
          "data": {
            "text/plain": [
              "0.9777777791023254"
            ]
          },
          "metadata": {},
          "execution_count": 17
        }
      ]
    },
    {
      "cell_type": "code",
      "source": [
        "# lets add more filters\n",
        "model=keras.Sequential(\n",
        "    [\n",
        "        keras.layers.Conv2D(32,kernel_size=(3,3),activation='relu',input_shape=(8,8,1)),\n",
        "        keras.layers.Conv2D(64, kernel_size=(3, 3), activation='relu'),\n",
        "        keras.layers.MaxPooling2D(pool_size=(2,2)),\n",
        "        keras.layers.Flatten(),\n",
        "        keras.layers.Dense(128,activation='relu'),\n",
        "        keras.layers.Dense(10,activation='softmax')\n",
        "    ]\n",
        "\n",
        ")\n",
        "model.compile(optimizer='adam',loss='categorical_crossentropy',metrics=['accuracy'])\n",
        "model.fit(x_train,y_train,epochs=50,batch_size=32,validation_data=(x_test,y_test))"
      ],
      "metadata": {
        "colab": {
          "base_uri": "https://localhost:8080/"
        },
        "id": "c2WxPIn_z0c4",
        "outputId": "d073cc3e-6480-49ec-a197-70364f5e6cac"
      },
      "execution_count": null,
      "outputs": [
        {
          "output_type": "stream",
          "name": "stdout",
          "text": [
            "Epoch 1/50\n",
            "45/45 [==============================] - 2s 18ms/step - loss: 2.2594 - accuracy: 0.3159 - val_loss: 2.1382 - val_accuracy: 0.5250\n",
            "Epoch 2/50\n",
            "45/45 [==============================] - 0s 7ms/step - loss: 1.6931 - accuracy: 0.6340 - val_loss: 1.1532 - val_accuracy: 0.7361\n",
            "Epoch 3/50\n",
            "45/45 [==============================] - 0s 9ms/step - loss: 0.8177 - accuracy: 0.7871 - val_loss: 0.6297 - val_accuracy: 0.8222\n",
            "Epoch 4/50\n",
            "45/45 [==============================] - 0s 8ms/step - loss: 0.5387 - accuracy: 0.8469 - val_loss: 0.4558 - val_accuracy: 0.8722\n",
            "Epoch 5/50\n",
            "45/45 [==============================] - 0s 9ms/step - loss: 0.4157 - accuracy: 0.8824 - val_loss: 0.3997 - val_accuracy: 0.8861\n",
            "Epoch 6/50\n",
            "45/45 [==============================] - 0s 8ms/step - loss: 0.3446 - accuracy: 0.8942 - val_loss: 0.2916 - val_accuracy: 0.9139\n",
            "Epoch 7/50\n",
            "45/45 [==============================] - 0s 7ms/step - loss: 0.3026 - accuracy: 0.9158 - val_loss: 0.2847 - val_accuracy: 0.9056\n",
            "Epoch 8/50\n",
            "45/45 [==============================] - 0s 7ms/step - loss: 0.2469 - accuracy: 0.9311 - val_loss: 0.2365 - val_accuracy: 0.9222\n",
            "Epoch 9/50\n",
            "45/45 [==============================] - 0s 8ms/step - loss: 0.2286 - accuracy: 0.9297 - val_loss: 0.1922 - val_accuracy: 0.9361\n",
            "Epoch 10/50\n",
            "45/45 [==============================] - 0s 7ms/step - loss: 0.2014 - accuracy: 0.9443 - val_loss: 0.1792 - val_accuracy: 0.9472\n",
            "Epoch 11/50\n",
            "45/45 [==============================] - 0s 8ms/step - loss: 0.1676 - accuracy: 0.9569 - val_loss: 0.1560 - val_accuracy: 0.9472\n",
            "Epoch 12/50\n",
            "45/45 [==============================] - 0s 8ms/step - loss: 0.1545 - accuracy: 0.9603 - val_loss: 0.1554 - val_accuracy: 0.9472\n",
            "Epoch 13/50\n",
            "45/45 [==============================] - 0s 8ms/step - loss: 0.1381 - accuracy: 0.9680 - val_loss: 0.1324 - val_accuracy: 0.9583\n",
            "Epoch 14/50\n",
            "45/45 [==============================] - 0s 7ms/step - loss: 0.1288 - accuracy: 0.9652 - val_loss: 0.1175 - val_accuracy: 0.9611\n",
            "Epoch 15/50\n",
            "45/45 [==============================] - 0s 8ms/step - loss: 0.1171 - accuracy: 0.9708 - val_loss: 0.1228 - val_accuracy: 0.9694\n",
            "Epoch 16/50\n",
            "45/45 [==============================] - 0s 8ms/step - loss: 0.1012 - accuracy: 0.9743 - val_loss: 0.1250 - val_accuracy: 0.9611\n",
            "Epoch 17/50\n",
            "45/45 [==============================] - 0s 7ms/step - loss: 0.0940 - accuracy: 0.9777 - val_loss: 0.0989 - val_accuracy: 0.9750\n",
            "Epoch 18/50\n",
            "45/45 [==============================] - 0s 8ms/step - loss: 0.0869 - accuracy: 0.9791 - val_loss: 0.1065 - val_accuracy: 0.9694\n",
            "Epoch 19/50\n",
            "45/45 [==============================] - 1s 12ms/step - loss: 0.0767 - accuracy: 0.9784 - val_loss: 0.0954 - val_accuracy: 0.9722\n",
            "Epoch 20/50\n",
            "45/45 [==============================] - 1s 18ms/step - loss: 0.0762 - accuracy: 0.9791 - val_loss: 0.1004 - val_accuracy: 0.9667\n",
            "Epoch 21/50\n",
            "45/45 [==============================] - 1s 21ms/step - loss: 0.0672 - accuracy: 0.9854 - val_loss: 0.1008 - val_accuracy: 0.9611\n",
            "Epoch 22/50\n",
            "45/45 [==============================] - 1s 18ms/step - loss: 0.0644 - accuracy: 0.9854 - val_loss: 0.0861 - val_accuracy: 0.9694\n",
            "Epoch 23/50\n",
            "45/45 [==============================] - 0s 8ms/step - loss: 0.0548 - accuracy: 0.9861 - val_loss: 0.0704 - val_accuracy: 0.9806\n",
            "Epoch 24/50\n",
            "45/45 [==============================] - 0s 8ms/step - loss: 0.0538 - accuracy: 0.9868 - val_loss: 0.0859 - val_accuracy: 0.9778\n",
            "Epoch 25/50\n",
            "45/45 [==============================] - 0s 7ms/step - loss: 0.0438 - accuracy: 0.9923 - val_loss: 0.0703 - val_accuracy: 0.9806\n",
            "Epoch 26/50\n",
            "45/45 [==============================] - 0s 8ms/step - loss: 0.0394 - accuracy: 0.9903 - val_loss: 0.0699 - val_accuracy: 0.9778\n",
            "Epoch 27/50\n",
            "45/45 [==============================] - 0s 8ms/step - loss: 0.0404 - accuracy: 0.9910 - val_loss: 0.0711 - val_accuracy: 0.9750\n",
            "Epoch 28/50\n",
            "45/45 [==============================] - 0s 8ms/step - loss: 0.0353 - accuracy: 0.9916 - val_loss: 0.0763 - val_accuracy: 0.9778\n",
            "Epoch 29/50\n",
            "45/45 [==============================] - 0s 8ms/step - loss: 0.0294 - accuracy: 0.9930 - val_loss: 0.0657 - val_accuracy: 0.9778\n",
            "Epoch 30/50\n",
            "45/45 [==============================] - 0s 8ms/step - loss: 0.0268 - accuracy: 0.9972 - val_loss: 0.0651 - val_accuracy: 0.9750\n",
            "Epoch 31/50\n",
            "45/45 [==============================] - 0s 7ms/step - loss: 0.0316 - accuracy: 0.9910 - val_loss: 0.0647 - val_accuracy: 0.9750\n",
            "Epoch 32/50\n",
            "45/45 [==============================] - 0s 8ms/step - loss: 0.0240 - accuracy: 0.9986 - val_loss: 0.0599 - val_accuracy: 0.9778\n",
            "Epoch 33/50\n",
            "45/45 [==============================] - 0s 8ms/step - loss: 0.0228 - accuracy: 0.9979 - val_loss: 0.0650 - val_accuracy: 0.9778\n",
            "Epoch 34/50\n",
            "45/45 [==============================] - 0s 8ms/step - loss: 0.0224 - accuracy: 0.9958 - val_loss: 0.0614 - val_accuracy: 0.9778\n",
            "Epoch 35/50\n",
            "45/45 [==============================] - 0s 8ms/step - loss: 0.0219 - accuracy: 0.9958 - val_loss: 0.0636 - val_accuracy: 0.9778\n",
            "Epoch 36/50\n",
            "45/45 [==============================] - 0s 9ms/step - loss: 0.0197 - accuracy: 0.9965 - val_loss: 0.0593 - val_accuracy: 0.9694\n",
            "Epoch 37/50\n",
            "45/45 [==============================] - 0s 8ms/step - loss: 0.0173 - accuracy: 0.9986 - val_loss: 0.0755 - val_accuracy: 0.9778\n",
            "Epoch 38/50\n",
            "45/45 [==============================] - 0s 8ms/step - loss: 0.0174 - accuracy: 0.9972 - val_loss: 0.0625 - val_accuracy: 0.9750\n",
            "Epoch 39/50\n",
            "45/45 [==============================] - 0s 7ms/step - loss: 0.0178 - accuracy: 0.9958 - val_loss: 0.0545 - val_accuracy: 0.9861\n",
            "Epoch 40/50\n",
            "45/45 [==============================] - 0s 8ms/step - loss: 0.0144 - accuracy: 0.9972 - val_loss: 0.0579 - val_accuracy: 0.9861\n",
            "Epoch 41/50\n",
            "45/45 [==============================] - 0s 8ms/step - loss: 0.0159 - accuracy: 0.9979 - val_loss: 0.0719 - val_accuracy: 0.9722\n",
            "Epoch 42/50\n",
            "45/45 [==============================] - 0s 7ms/step - loss: 0.0172 - accuracy: 0.9958 - val_loss: 0.0536 - val_accuracy: 0.9778\n",
            "Epoch 43/50\n",
            "45/45 [==============================] - 0s 8ms/step - loss: 0.0131 - accuracy: 0.9993 - val_loss: 0.0555 - val_accuracy: 0.9861\n",
            "Epoch 44/50\n",
            "45/45 [==============================] - 0s 8ms/step - loss: 0.0100 - accuracy: 0.9986 - val_loss: 0.0554 - val_accuracy: 0.9806\n",
            "Epoch 45/50\n",
            "45/45 [==============================] - 0s 8ms/step - loss: 0.0100 - accuracy: 0.9986 - val_loss: 0.0594 - val_accuracy: 0.9750\n",
            "Epoch 46/50\n",
            "45/45 [==============================] - 0s 7ms/step - loss: 0.0100 - accuracy: 0.9993 - val_loss: 0.0562 - val_accuracy: 0.9806\n",
            "Epoch 47/50\n",
            "45/45 [==============================] - 0s 8ms/step - loss: 0.0103 - accuracy: 0.9986 - val_loss: 0.0584 - val_accuracy: 0.9806\n",
            "Epoch 48/50\n",
            "45/45 [==============================] - 0s 8ms/step - loss: 0.0095 - accuracy: 0.9986 - val_loss: 0.0547 - val_accuracy: 0.9806\n",
            "Epoch 49/50\n",
            "45/45 [==============================] - 0s 8ms/step - loss: 0.0095 - accuracy: 0.9993 - val_loss: 0.0556 - val_accuracy: 0.9778\n",
            "Epoch 50/50\n",
            "45/45 [==============================] - 1s 12ms/step - loss: 0.0074 - accuracy: 0.9993 - val_loss: 0.0577 - val_accuracy: 0.9722\n"
          ]
        },
        {
          "output_type": "execute_result",
          "data": {
            "text/plain": [
              "<keras.callbacks.History at 0x7f1e52422d70>"
            ]
          },
          "metadata": {},
          "execution_count": 20
        }
      ]
    },
    {
      "cell_type": "code",
      "source": [
        "loss,accuracy=model.evaluate(x_test,y_test)\n",
        "accuracy"
      ],
      "metadata": {
        "colab": {
          "base_uri": "https://localhost:8080/"
        },
        "id": "wEflbJGc0oav",
        "outputId": "ed83c7d5-0527-4d73-9ef7-f68c75de67cf"
      },
      "execution_count": null,
      "outputs": [
        {
          "output_type": "stream",
          "name": "stdout",
          "text": [
            "12/12 [==============================] - 0s 3ms/step - loss: 0.0577 - accuracy: 0.9722\n"
          ]
        },
        {
          "output_type": "execute_result",
          "data": {
            "text/plain": [
              "0.9722222089767456"
            ]
          },
          "metadata": {},
          "execution_count": 21
        }
      ]
    },
    {
      "cell_type": "code",
      "source": [
        "#there might be overfitting\n",
        "#we can prevent overfitting by adding dropout layers\n",
        "model=keras.Sequential(\n",
        "    [\n",
        "        keras.layers.Conv2D(32,kernel_size=(3,3),activation='relu',input_shape=(8,8,1)),\n",
        "        keras.layers.Conv2D(64, kernel_size=(3, 3), activation='relu'),\n",
        "        keras.layers.MaxPooling2D(pool_size=(2,2)),\n",
        "        keras.layers.Dropout(0.25),\n",
        "        keras.layers.Flatten(),\n",
        "        keras.layers.Dense(128,activation='relu'),\n",
        "        keras.layers.Dropout(0.5),\n",
        "        keras.layers.Dense(10,activation='softmax')\n",
        "    ]\n",
        "\n",
        ")\n",
        "model.compile(optimizer='adam',loss='categorical_crossentropy',metrics=['accuracy'])\n",
        "model.fit(x_train,y_train,epochs=50,batch_size=32,validation_data=(x_test,y_test))"
      ],
      "metadata": {
        "colab": {
          "base_uri": "https://localhost:8080/"
        },
        "id": "MdMEou6r0pWj",
        "outputId": "05b43b1e-99dd-419c-b12c-b9ec90894d2f"
      },
      "execution_count": null,
      "outputs": [
        {
          "output_type": "stream",
          "name": "stdout",
          "text": [
            "Epoch 1/50\n",
            "45/45 [==============================] - 2s 13ms/step - loss: 2.2805 - accuracy: 0.1740 - val_loss: 2.2079 - val_accuracy: 0.5472\n",
            "Epoch 2/50\n",
            "45/45 [==============================] - 0s 9ms/step - loss: 1.9477 - accuracy: 0.4558 - val_loss: 1.4471 - val_accuracy: 0.7444\n",
            "Epoch 3/50\n",
            "45/45 [==============================] - 0s 8ms/step - loss: 1.2162 - accuracy: 0.6159 - val_loss: 0.8386 - val_accuracy: 0.7806\n",
            "Epoch 4/50\n",
            "45/45 [==============================] - 0s 9ms/step - loss: 0.8984 - accuracy: 0.7070 - val_loss: 0.6042 - val_accuracy: 0.8250\n",
            "Epoch 5/50\n",
            "45/45 [==============================] - 0s 9ms/step - loss: 0.7383 - accuracy: 0.7731 - val_loss: 0.4977 - val_accuracy: 0.8583\n",
            "Epoch 6/50\n",
            "45/45 [==============================] - 0s 9ms/step - loss: 0.6488 - accuracy: 0.7989 - val_loss: 0.4245 - val_accuracy: 0.8750\n",
            "Epoch 7/50\n",
            "45/45 [==============================] - 0s 9ms/step - loss: 0.5720 - accuracy: 0.8128 - val_loss: 0.3779 - val_accuracy: 0.8750\n",
            "Epoch 8/50\n",
            "45/45 [==============================] - 0s 9ms/step - loss: 0.4866 - accuracy: 0.8462 - val_loss: 0.3180 - val_accuracy: 0.8944\n",
            "Epoch 9/50\n",
            "45/45 [==============================] - 0s 9ms/step - loss: 0.4587 - accuracy: 0.8434 - val_loss: 0.2830 - val_accuracy: 0.9167\n",
            "Epoch 10/50\n",
            "45/45 [==============================] - 0s 9ms/step - loss: 0.4077 - accuracy: 0.8754 - val_loss: 0.2567 - val_accuracy: 0.9167\n",
            "Epoch 11/50\n",
            "45/45 [==============================] - 0s 9ms/step - loss: 0.3730 - accuracy: 0.8831 - val_loss: 0.2214 - val_accuracy: 0.9417\n",
            "Epoch 12/50\n",
            "45/45 [==============================] - 0s 9ms/step - loss: 0.3599 - accuracy: 0.8894 - val_loss: 0.2091 - val_accuracy: 0.9500\n",
            "Epoch 13/50\n",
            "45/45 [==============================] - 0s 9ms/step - loss: 0.3104 - accuracy: 0.9026 - val_loss: 0.1826 - val_accuracy: 0.9444\n",
            "Epoch 14/50\n",
            "45/45 [==============================] - 0s 8ms/step - loss: 0.3038 - accuracy: 0.9012 - val_loss: 0.1659 - val_accuracy: 0.9556\n",
            "Epoch 15/50\n",
            "45/45 [==============================] - 0s 8ms/step - loss: 0.2786 - accuracy: 0.9172 - val_loss: 0.1540 - val_accuracy: 0.9639\n",
            "Epoch 16/50\n",
            "45/45 [==============================] - 0s 9ms/step - loss: 0.2585 - accuracy: 0.9241 - val_loss: 0.1354 - val_accuracy: 0.9722\n",
            "Epoch 17/50\n",
            "45/45 [==============================] - 1s 12ms/step - loss: 0.2319 - accuracy: 0.9283 - val_loss: 0.1289 - val_accuracy: 0.9667\n",
            "Epoch 18/50\n",
            "45/45 [==============================] - 1s 13ms/step - loss: 0.2287 - accuracy: 0.9304 - val_loss: 0.1318 - val_accuracy: 0.9722\n",
            "Epoch 19/50\n",
            "45/45 [==============================] - 1s 13ms/step - loss: 0.1862 - accuracy: 0.9485 - val_loss: 0.1188 - val_accuracy: 0.9750\n",
            "Epoch 20/50\n",
            "45/45 [==============================] - 1s 13ms/step - loss: 0.1951 - accuracy: 0.9492 - val_loss: 0.1194 - val_accuracy: 0.9694\n",
            "Epoch 21/50\n",
            "45/45 [==============================] - 1s 13ms/step - loss: 0.1995 - accuracy: 0.9332 - val_loss: 0.1016 - val_accuracy: 0.9722\n",
            "Epoch 22/50\n",
            "45/45 [==============================] - 0s 9ms/step - loss: 0.1563 - accuracy: 0.9534 - val_loss: 0.0923 - val_accuracy: 0.9778\n",
            "Epoch 23/50\n",
            "45/45 [==============================] - 0s 8ms/step - loss: 0.1629 - accuracy: 0.9562 - val_loss: 0.0904 - val_accuracy: 0.9778\n",
            "Epoch 24/50\n",
            "45/45 [==============================] - 0s 9ms/step - loss: 0.1671 - accuracy: 0.9478 - val_loss: 0.0829 - val_accuracy: 0.9861\n",
            "Epoch 25/50\n",
            "45/45 [==============================] - 0s 9ms/step - loss: 0.1434 - accuracy: 0.9603 - val_loss: 0.0865 - val_accuracy: 0.9806\n",
            "Epoch 26/50\n",
            "45/45 [==============================] - 0s 8ms/step - loss: 0.1440 - accuracy: 0.9582 - val_loss: 0.0796 - val_accuracy: 0.9750\n",
            "Epoch 27/50\n",
            "45/45 [==============================] - 0s 8ms/step - loss: 0.1335 - accuracy: 0.9610 - val_loss: 0.0846 - val_accuracy: 0.9778\n",
            "Epoch 28/50\n",
            "45/45 [==============================] - 0s 8ms/step - loss: 0.1443 - accuracy: 0.9555 - val_loss: 0.0906 - val_accuracy: 0.9778\n",
            "Epoch 29/50\n",
            "45/45 [==============================] - 0s 9ms/step - loss: 0.1351 - accuracy: 0.9548 - val_loss: 0.0744 - val_accuracy: 0.9833\n",
            "Epoch 30/50\n",
            "45/45 [==============================] - 0s 8ms/step - loss: 0.1110 - accuracy: 0.9680 - val_loss: 0.0730 - val_accuracy: 0.9806\n",
            "Epoch 31/50\n",
            "45/45 [==============================] - 0s 9ms/step - loss: 0.1191 - accuracy: 0.9631 - val_loss: 0.0694 - val_accuracy: 0.9833\n",
            "Epoch 32/50\n",
            "45/45 [==============================] - 0s 8ms/step - loss: 0.1089 - accuracy: 0.9652 - val_loss: 0.0680 - val_accuracy: 0.9861\n",
            "Epoch 33/50\n",
            "45/45 [==============================] - 0s 8ms/step - loss: 0.1005 - accuracy: 0.9694 - val_loss: 0.0717 - val_accuracy: 0.9861\n",
            "Epoch 34/50\n",
            "45/45 [==============================] - 0s 8ms/step - loss: 0.1071 - accuracy: 0.9610 - val_loss: 0.0651 - val_accuracy: 0.9861\n",
            "Epoch 35/50\n",
            "45/45 [==============================] - 0s 8ms/step - loss: 0.0941 - accuracy: 0.9687 - val_loss: 0.0646 - val_accuracy: 0.9833\n",
            "Epoch 36/50\n",
            "45/45 [==============================] - 0s 9ms/step - loss: 0.0762 - accuracy: 0.9784 - val_loss: 0.0578 - val_accuracy: 0.9889\n",
            "Epoch 37/50\n",
            "45/45 [==============================] - 0s 8ms/step - loss: 0.0831 - accuracy: 0.9715 - val_loss: 0.0570 - val_accuracy: 0.9806\n",
            "Epoch 38/50\n",
            "45/45 [==============================] - 0s 9ms/step - loss: 0.0970 - accuracy: 0.9680 - val_loss: 0.0579 - val_accuracy: 0.9861\n",
            "Epoch 39/50\n",
            "45/45 [==============================] - 0s 9ms/step - loss: 0.0879 - accuracy: 0.9736 - val_loss: 0.0610 - val_accuracy: 0.9833\n",
            "Epoch 40/50\n",
            "45/45 [==============================] - 0s 9ms/step - loss: 0.0771 - accuracy: 0.9729 - val_loss: 0.0546 - val_accuracy: 0.9861\n",
            "Epoch 41/50\n",
            "45/45 [==============================] - 0s 8ms/step - loss: 0.0716 - accuracy: 0.9791 - val_loss: 0.0536 - val_accuracy: 0.9889\n",
            "Epoch 42/50\n",
            "45/45 [==============================] - 0s 9ms/step - loss: 0.0793 - accuracy: 0.9722 - val_loss: 0.0633 - val_accuracy: 0.9778\n",
            "Epoch 43/50\n",
            "45/45 [==============================] - 0s 8ms/step - loss: 0.0722 - accuracy: 0.9770 - val_loss: 0.0623 - val_accuracy: 0.9833\n",
            "Epoch 44/50\n",
            "45/45 [==============================] - 0s 9ms/step - loss: 0.0817 - accuracy: 0.9729 - val_loss: 0.0575 - val_accuracy: 0.9889\n",
            "Epoch 45/50\n",
            "45/45 [==============================] - 0s 8ms/step - loss: 0.1026 - accuracy: 0.9694 - val_loss: 0.0537 - val_accuracy: 0.9833\n",
            "Epoch 46/50\n",
            "45/45 [==============================] - 0s 9ms/step - loss: 0.0697 - accuracy: 0.9777 - val_loss: 0.0625 - val_accuracy: 0.9833\n",
            "Epoch 47/50\n",
            "45/45 [==============================] - 0s 8ms/step - loss: 0.0677 - accuracy: 0.9791 - val_loss: 0.0473 - val_accuracy: 0.9889\n",
            "Epoch 48/50\n",
            "45/45 [==============================] - 1s 13ms/step - loss: 0.0693 - accuracy: 0.9812 - val_loss: 0.0461 - val_accuracy: 0.9917\n",
            "Epoch 49/50\n",
            "45/45 [==============================] - 1s 13ms/step - loss: 0.0721 - accuracy: 0.9770 - val_loss: 0.0526 - val_accuracy: 0.9861\n",
            "Epoch 50/50\n",
            "45/45 [==============================] - 1s 13ms/step - loss: 0.0816 - accuracy: 0.9715 - val_loss: 0.0567 - val_accuracy: 0.9778\n"
          ]
        },
        {
          "output_type": "execute_result",
          "data": {
            "text/plain": [
              "<keras.callbacks.History at 0x7f1e52e57010>"
            ]
          },
          "metadata": {},
          "execution_count": 22
        }
      ]
    },
    {
      "cell_type": "code",
      "source": [
        "loss,accuracy=model.evaluate(x_test,y_test)\n",
        "accuracy"
      ],
      "metadata": {
        "colab": {
          "base_uri": "https://localhost:8080/"
        },
        "id": "yxcZ5YgX1XUp",
        "outputId": "185a71fa-789d-461a-abc8-103dcb2330f7"
      },
      "execution_count": null,
      "outputs": [
        {
          "output_type": "stream",
          "name": "stdout",
          "text": [
            "12/12 [==============================] - 0s 3ms/step - loss: 0.0567 - accuracy: 0.9778\n"
          ]
        },
        {
          "output_type": "execute_result",
          "data": {
            "text/plain": [
              "0.9777777791023254"
            ]
          },
          "metadata": {},
          "execution_count": 23
        }
      ]
    },
    {
      "cell_type": "code",
      "source": [
        "#trying data augumentation\n",
        "from tensorflow.keras.preprocessing.image import ImageDataGenerator\n",
        "datagen = ImageDataGenerator(rotation_range=10, zoom_range=0.1, width_shift_range=0.1, height_shift_range=0.1)\n",
        "datagen.fit(x_train)"
      ],
      "metadata": {
        "id": "FgH6QqVL1XxR"
      },
      "execution_count": null,
      "outputs": []
    },
    {
      "cell_type": "code",
      "source": [
        "history = model.fit(datagen.flow(x_train, y_train, batch_size=32), epochs=50, validation_data=(x_test, y_test))\n"
      ],
      "metadata": {
        "colab": {
          "base_uri": "https://localhost:8080/"
        },
        "id": "idyycwKx7J1W",
        "outputId": "6adcddc3-5a2a-4bd3-a997-e2ff6f5f9d5d"
      },
      "execution_count": null,
      "outputs": [
        {
          "output_type": "stream",
          "name": "stdout",
          "text": [
            "Epoch 1/50\n",
            "45/45 [==============================] - 2s 18ms/step - loss: 0.5430 - accuracy: 0.8323 - val_loss: 0.0708 - val_accuracy: 0.9778\n",
            "Epoch 2/50\n",
            "45/45 [==============================] - 1s 16ms/step - loss: 0.4702 - accuracy: 0.8525 - val_loss: 0.0609 - val_accuracy: 0.9806\n",
            "Epoch 3/50\n",
            "45/45 [==============================] - 1s 16ms/step - loss: 0.4660 - accuracy: 0.8629 - val_loss: 0.0613 - val_accuracy: 0.9833\n",
            "Epoch 4/50\n",
            "45/45 [==============================] - 1s 20ms/step - loss: 0.4117 - accuracy: 0.8768 - val_loss: 0.0582 - val_accuracy: 0.9889\n",
            "Epoch 5/50\n",
            "45/45 [==============================] - 1s 26ms/step - loss: 0.4261 - accuracy: 0.8692 - val_loss: 0.0523 - val_accuracy: 0.9889\n",
            "Epoch 6/50\n",
            "45/45 [==============================] - 1s 22ms/step - loss: 0.3967 - accuracy: 0.8775 - val_loss: 0.0525 - val_accuracy: 0.9861\n",
            "Epoch 7/50\n",
            "45/45 [==============================] - 1s 17ms/step - loss: 0.4023 - accuracy: 0.8754 - val_loss: 0.0453 - val_accuracy: 0.9889\n",
            "Epoch 8/50\n",
            "45/45 [==============================] - 1s 17ms/step - loss: 0.3735 - accuracy: 0.8852 - val_loss: 0.0453 - val_accuracy: 0.9889\n",
            "Epoch 9/50\n",
            "45/45 [==============================] - 1s 17ms/step - loss: 0.3680 - accuracy: 0.8824 - val_loss: 0.0490 - val_accuracy: 0.9833\n",
            "Epoch 10/50\n",
            "45/45 [==============================] - 1s 16ms/step - loss: 0.3246 - accuracy: 0.8998 - val_loss: 0.0356 - val_accuracy: 0.9917\n",
            "Epoch 11/50\n",
            "45/45 [==============================] - 1s 16ms/step - loss: 0.3349 - accuracy: 0.8894 - val_loss: 0.0392 - val_accuracy: 0.9917\n",
            "Epoch 12/50\n",
            "45/45 [==============================] - 1s 17ms/step - loss: 0.3022 - accuracy: 0.9019 - val_loss: 0.0426 - val_accuracy: 0.9889\n",
            "Epoch 13/50\n",
            "45/45 [==============================] - 1s 16ms/step - loss: 0.3144 - accuracy: 0.8963 - val_loss: 0.0446 - val_accuracy: 0.9917\n",
            "Epoch 14/50\n",
            "45/45 [==============================] - 1s 17ms/step - loss: 0.3202 - accuracy: 0.9081 - val_loss: 0.0364 - val_accuracy: 0.9972\n",
            "Epoch 15/50\n",
            "45/45 [==============================] - 1s 24ms/step - loss: 0.3259 - accuracy: 0.8942 - val_loss: 0.0366 - val_accuracy: 0.9972\n",
            "Epoch 16/50\n",
            "45/45 [==============================] - 1s 25ms/step - loss: 0.2661 - accuracy: 0.9255 - val_loss: 0.0337 - val_accuracy: 0.9972\n",
            "Epoch 17/50\n",
            "45/45 [==============================] - 1s 21ms/step - loss: 0.2779 - accuracy: 0.9054 - val_loss: 0.0267 - val_accuracy: 0.9972\n",
            "Epoch 18/50\n",
            "45/45 [==============================] - 1s 17ms/step - loss: 0.3009 - accuracy: 0.8984 - val_loss: 0.0382 - val_accuracy: 0.9972\n",
            "Epoch 19/50\n",
            "45/45 [==============================] - 1s 17ms/step - loss: 0.2878 - accuracy: 0.9047 - val_loss: 0.0345 - val_accuracy: 0.9917\n",
            "Epoch 20/50\n",
            "45/45 [==============================] - 1s 17ms/step - loss: 0.2593 - accuracy: 0.9158 - val_loss: 0.0298 - val_accuracy: 0.9944\n",
            "Epoch 21/50\n",
            "45/45 [==============================] - 1s 16ms/step - loss: 0.2586 - accuracy: 0.9214 - val_loss: 0.0305 - val_accuracy: 0.9944\n",
            "Epoch 22/50\n",
            "45/45 [==============================] - 1s 17ms/step - loss: 0.2708 - accuracy: 0.9200 - val_loss: 0.0249 - val_accuracy: 0.9972\n",
            "Epoch 23/50\n",
            "45/45 [==============================] - 1s 16ms/step - loss: 0.2926 - accuracy: 0.9130 - val_loss: 0.0255 - val_accuracy: 0.9972\n",
            "Epoch 24/50\n",
            "45/45 [==============================] - 1s 16ms/step - loss: 0.2613 - accuracy: 0.9130 - val_loss: 0.0283 - val_accuracy: 0.9972\n",
            "Epoch 25/50\n",
            "45/45 [==============================] - 1s 17ms/step - loss: 0.2429 - accuracy: 0.9151 - val_loss: 0.0277 - val_accuracy: 0.9944\n",
            "Epoch 26/50\n",
            "45/45 [==============================] - 1s 25ms/step - loss: 0.2405 - accuracy: 0.9228 - val_loss: 0.0303 - val_accuracy: 0.9972\n",
            "Epoch 27/50\n",
            "45/45 [==============================] - 1s 25ms/step - loss: 0.2268 - accuracy: 0.9276 - val_loss: 0.0321 - val_accuracy: 0.9972\n",
            "Epoch 28/50\n",
            "45/45 [==============================] - 1s 20ms/step - loss: 0.2416 - accuracy: 0.9311 - val_loss: 0.0316 - val_accuracy: 0.9972\n",
            "Epoch 29/50\n",
            "45/45 [==============================] - 1s 16ms/step - loss: 0.2532 - accuracy: 0.9200 - val_loss: 0.0326 - val_accuracy: 0.9944\n",
            "Epoch 30/50\n",
            "45/45 [==============================] - 1s 16ms/step - loss: 0.2136 - accuracy: 0.9235 - val_loss: 0.0271 - val_accuracy: 0.9972\n",
            "Epoch 31/50\n",
            "45/45 [==============================] - 1s 16ms/step - loss: 0.2398 - accuracy: 0.9248 - val_loss: 0.0285 - val_accuracy: 0.9972\n",
            "Epoch 32/50\n",
            "45/45 [==============================] - 1s 16ms/step - loss: 0.2343 - accuracy: 0.9311 - val_loss: 0.0259 - val_accuracy: 0.9972\n",
            "Epoch 33/50\n",
            "45/45 [==============================] - 1s 21ms/step - loss: 0.2222 - accuracy: 0.9374 - val_loss: 0.0274 - val_accuracy: 0.9944\n",
            "Epoch 34/50\n",
            "45/45 [==============================] - 1s 21ms/step - loss: 0.1991 - accuracy: 0.9353 - val_loss: 0.0238 - val_accuracy: 0.9972\n",
            "Epoch 35/50\n",
            "45/45 [==============================] - 1s 18ms/step - loss: 0.2367 - accuracy: 0.9221 - val_loss: 0.0260 - val_accuracy: 0.9944\n",
            "Epoch 36/50\n",
            "45/45 [==============================] - 1s 17ms/step - loss: 0.2248 - accuracy: 0.9276 - val_loss: 0.0316 - val_accuracy: 0.9944\n",
            "Epoch 37/50\n",
            "45/45 [==============================] - 1s 28ms/step - loss: 0.1821 - accuracy: 0.9443 - val_loss: 0.0267 - val_accuracy: 0.9972\n",
            "Epoch 38/50\n",
            "45/45 [==============================] - 1s 16ms/step - loss: 0.2334 - accuracy: 0.9235 - val_loss: 0.0309 - val_accuracy: 0.9944\n",
            "Epoch 39/50\n",
            "45/45 [==============================] - 1s 16ms/step - loss: 0.2315 - accuracy: 0.9276 - val_loss: 0.0236 - val_accuracy: 0.9972\n",
            "Epoch 40/50\n",
            "45/45 [==============================] - 1s 16ms/step - loss: 0.2134 - accuracy: 0.9283 - val_loss: 0.0262 - val_accuracy: 0.9944\n",
            "Epoch 41/50\n",
            "45/45 [==============================] - 1s 17ms/step - loss: 0.2071 - accuracy: 0.9353 - val_loss: 0.0267 - val_accuracy: 0.9972\n",
            "Epoch 42/50\n",
            "45/45 [==============================] - 1s 17ms/step - loss: 0.2190 - accuracy: 0.9381 - val_loss: 0.0279 - val_accuracy: 0.9972\n",
            "Epoch 43/50\n",
            "45/45 [==============================] - 1s 16ms/step - loss: 0.1815 - accuracy: 0.9464 - val_loss: 0.0219 - val_accuracy: 0.9972\n",
            "Epoch 44/50\n",
            "45/45 [==============================] - 1s 17ms/step - loss: 0.2289 - accuracy: 0.9255 - val_loss: 0.0198 - val_accuracy: 0.9972\n",
            "Epoch 45/50\n",
            "45/45 [==============================] - 1s 21ms/step - loss: 0.2079 - accuracy: 0.9346 - val_loss: 0.0255 - val_accuracy: 0.9917\n",
            "Epoch 46/50\n",
            "45/45 [==============================] - 1s 25ms/step - loss: 0.1978 - accuracy: 0.9367 - val_loss: 0.0199 - val_accuracy: 0.9972\n",
            "Epoch 47/50\n",
            "45/45 [==============================] - 1s 21ms/step - loss: 0.1823 - accuracy: 0.9450 - val_loss: 0.0168 - val_accuracy: 0.9944\n",
            "Epoch 48/50\n",
            "45/45 [==============================] - 1s 16ms/step - loss: 0.1977 - accuracy: 0.9339 - val_loss: 0.0216 - val_accuracy: 0.9972\n",
            "Epoch 49/50\n",
            "45/45 [==============================] - 1s 17ms/step - loss: 0.2011 - accuracy: 0.9360 - val_loss: 0.0201 - val_accuracy: 0.9944\n",
            "Epoch 50/50\n",
            "45/45 [==============================] - 1s 16ms/step - loss: 0.2019 - accuracy: 0.9318 - val_loss: 0.0278 - val_accuracy: 0.9917\n"
          ]
        }
      ]
    },
    {
      "cell_type": "code",
      "source": [
        "loss,accuracy=model.evaluate(x_test,y_test)\n",
        "accuracy"
      ],
      "metadata": {
        "colab": {
          "base_uri": "https://localhost:8080/"
        },
        "id": "UNbuYSP27bSw",
        "outputId": "ba15ae36-ffa5-48d8-df44-02a5c8917504"
      },
      "execution_count": null,
      "outputs": [
        {
          "output_type": "stream",
          "name": "stdout",
          "text": [
            "12/12 [==============================] - 0s 4ms/step - loss: 0.0278 - accuracy: 0.9917\n"
          ]
        },
        {
          "output_type": "execute_result",
          "data": {
            "text/plain": [
              "0.9916666746139526"
            ]
          },
          "metadata": {},
          "execution_count": 29
        }
      ]
    },
    {
      "cell_type": "code",
      "source": [
        "import matplotlib.pyplot as plt\n",
        "\n",
        "model_accuracy = {\n",
        "    1: 90.55555462837219,\n",
        "    2: 97.22222089767456,\n",
        "    3: 97.77777791023254,\n",
        "    4: 99.16666746139526\n",
        "}\n",
        "\n",
        "plt.bar(range(len(model_accuracy)), list(model_accuracy.values()), align='center')\n",
        "plt.xticks(range(len(model_accuracy)), list(model_accuracy.keys()))\n",
        "plt.ylabel('Accuracy')\n",
        "plt.xlabel('Model Number')\n",
        "plt.title('Model Accuracy')\n",
        "\n",
        "plt.show()\n"
      ],
      "metadata": {
        "colab": {
          "base_uri": "https://localhost:8080/",
          "height": 472
        },
        "id": "mFSJVZe0Ba0i",
        "outputId": "5b37664c-d3a2-4bc4-8479-64a97f07c863"
      },
      "execution_count": null,
      "outputs": [
        {
          "output_type": "display_data",
          "data": {
            "text/plain": [
              "<Figure size 640x480 with 1 Axes>"
            ],
            "image/png": "[encoded data removed]"
          },
          "metadata": {}
        }
      ]
    },
    {
      "cell_type": "code",
      "source": [
        "#final accuracy 99.166\n"
      ],
      "metadata": {
        "id": "PvaKE_rM7vDm"
      },
      "execution_count": null,
      "outputs": []
    },
    {
      "cell_type": "markdown",
      "source": [
        "**Now** we will implement the same using the same dataset but different classification technique , we shall use a support vector classifier\n",
        "\n"
      ],
      "metadata": {
        "id": "QQG0lD9TaVq4"
      }
    },
    {
      "cell_type": "code",
      "source": [
        "import matplotlib.pyplot as plt\n",
        "from sklearn import datasets, svm, metrics\n",
        "from sklearn.model_selection import train_test_split\n"
      ],
      "metadata": {
        "id": "prhV30vKajo3"
      },
      "execution_count": null,
      "outputs": []
    },
    {
      "cell_type": "code",
      "source": [
        "digits=datasets.load_digits()\n",
        "n_samples = len(digits.images)\n",
        "data = digits.images.reshape((n_samples, -1))\n",
        "#we will use a support vector classifier\n",
        "clf = svm.SVC(gamma=0.001)"
      ],
      "metadata": {
        "id": "tzcVe25MarfN"
      },
      "execution_count": null,
      "outputs": []
    },
    {
      "cell_type": "code",
      "source": [
        "X_train, X_test, y_train, y_test = train_test_split(\n",
        "    data, digits.target, test_size=0.5, shuffle=False\n",
        ")"
      ],
      "metadata": {
        "id": "YaouTHTsc3hK"
      },
      "execution_count": null,
      "outputs": []
    },
    {
      "cell_type": "code",
      "source": [
        "clf.fit(X_train, y_train)\n"
      ],
      "metadata": {
        "colab": {
          "base_uri": "https://localhost:8080/",
          "height": 75
        },
        "id": "DGuh7HtldAr5",
        "outputId": "344fbd7a-0502-4041-e513-20521f375fd4"
      },
      "execution_count": null,
      "outputs": [
        {
          "output_type": "execute_result",
          "data": {
            "text/plain": [
              "SVC(gamma=0.001)"
            ],
            "text/html": [
              "<style>#sk-container-id-1 {color: black;background-color: white;}#sk-container-id-1 pre{padding: 0;}#sk-container-id-1 div.sk-toggleable {background-color: white;}#sk-container-id-1 label.sk-toggleable__label {cursor: pointer;display: block;width: 100%;margin-bottom: 0;padding: 0.3em;box-sizing: border-box;text-align: center;}#sk-container-id-1 label.sk-toggleable__label-arrow:before {content: \"▸\";float: left;margin-right: 0.25em;color: #696969;}#sk-container-id-1 label.sk-toggleable__label-arrow:hover:before {color: black;}#sk-container-id-1 div.sk-estimator:hover label.sk-toggleable__label-arrow:before {color: black;}#sk-container-id-1 div.sk-toggleable__content {max-height: 0;max-width: 0;overflow: hidden;text-align: left;background-color: #f0f8ff;}#sk-container-id-1 div.sk-toggleable__content pre {margin: 0.2em;color: black;border-radius: 0.25em;background-color: #f0f8ff;}#sk-container-id-1 input.sk-toggleable__control:checked~div.sk-toggleable__content {max-height: 200px;max-width: 100%;overflow: auto;}#sk-container-id-1 input.sk-toggleable__control:checked~label.sk-toggleable__label-arrow:before {content: \"▾\";}#sk-container-id-1 div.sk-estimator input.sk-toggleable__control:checked~label.sk-toggleable__label {background-color: #d4ebff;}#sk-container-id-1 div.sk-label input.sk-toggleable__control:checked~label.sk-toggleable__label {background-color: #d4ebff;}#sk-container-id-1 input.sk-hidden--visually {border: 0;clip: rect(1px 1px 1px 1px);clip: rect(1px, 1px, 1px, 1px);height: 1px;margin: -1px;overflow: hidden;padding: 0;position: absolute;width: 1px;}#sk-container-id-1 div.sk-estimator {font-family: monospace;background-color: #f0f8ff;border: 1px dotted black;border-radius: 0.25em;box-sizing: border-box;margin-bottom: 0.5em;}#sk-container-id-1 div.sk-estimator:hover {background-color: #d4ebff;}#sk-container-id-1 div.sk-parallel-item::after {content: \"\";width: 100%;border-bottom: 1px solid gray;flex-grow: 1;}#sk-container-id-1 div.sk-label:hover label.sk-toggleable__label {background-color: #d4ebff;}#sk-container-id-1 div.sk-serial::before {content: \"\";position: absolute;border-left: 1px solid gray;box-sizing: border-box;top: 0;bottom: 0;left: 50%;z-index: 0;}#sk-container-id-1 div.sk-serial {display: flex;flex-direction: column;align-items: center;background-color: white;padding-right: 0.2em;padding-left: 0.2em;position: relative;}#sk-container-id-1 div.sk-item {position: relative;z-index: 1;}#sk-container-id-1 div.sk-parallel {display: flex;align-items: stretch;justify-content: center;background-color: white;position: relative;}#sk-container-id-1 div.sk-item::before, #sk-container-id-1 div.sk-parallel-item::before {content: \"\";position: absolute;border-left: 1px solid gray;box-sizing: border-box;top: 0;bottom: 0;left: 50%;z-index: -1;}#sk-container-id-1 div.sk-parallel-item {display: flex;flex-direction: column;z-index: 1;position: relative;background-color: white;}#sk-container-id-1 div.sk-parallel-item:first-child::after {align-self: flex-end;width: 50%;}#sk-container-id-1 div.sk-parallel-item:last-child::after {align-self: flex-start;width: 50%;}#sk-container-id-1 div.sk-parallel-item:only-child::after {width: 0;}#sk-container-id-1 div.sk-dashed-wrapped {border: 1px dashed gray;margin: 0 0.4em 0.5em 0.4em;box-sizing: border-box;padding-bottom: 0.4em;background-color: white;}#sk-container-id-1 div.sk-label label {font-family: monospace;font-weight: bold;display: inline-block;line-height: 1.2em;}#sk-container-id-1 div.sk-label-container {text-align: center;}#sk-container-id-1 div.sk-container {/* jupyter's `normalize.less` sets `[hidden] { display: none; }` but bootstrap.min.css set `[hidden] { display: none !important; }` so we also need the `!important` here to be able to override the default hidden behavior on the sphinx rendered scikit-learn.org. See: https://github.com/scikit-learn/scikit-learn/issues/21755 */display: inline-block !important;position: relative;}#sk-container-id-1 div.sk-text-repr-fallback {display: none;}</style><div id=\"sk-container-id-1\" class=\"sk-top-container\"><div class=\"sk-text-repr-fallback\"><pre>SVC(gamma=0.001)</pre><b>In a Jupyter environment, please rerun this cell to show the HTML representation or trust the notebook. <br />On GitHub, the HTML representation is unable to render, please try loading this page with nbviewer.org.</b></div><div class=\"sk-container\" hidden><div class=\"sk-item\"><div class=\"sk-estimator sk-toggleable\"><input class=\"sk-toggleable__control sk-hidden--visually\" id=\"sk-estimator-id-1\" type=\"checkbox\" checked><label for=\"sk-estimator-id-1\" class=\"sk-toggleable__label sk-toggleable__label-arrow\">SVC</label><div class=\"sk-toggleable__content\"><pre>SVC(gamma=0.001)</pre></div></div></div></div></div>"
            ]
          },
          "metadata": {},
          "execution_count": 5
        }
      ]
    },
    {
      "cell_type": "code",
      "source": [
        "predicted = clf.predict(X_test)\n",
        "predicted\n",
        "from sklearn.metrics import accuracy_score\n",
        "print(accuracy_score(y_test,predicted)*100)"
      ],
      "metadata": {
        "colab": {
          "base_uri": "https://localhost:8080/"
        },
        "id": "S85G8tPcdJyh",
        "outputId": "72b682f6-1d12-40c3-b90a-fcba053abbc9"
      },
      "execution_count": null,
      "outputs": [
        {
          "output_type": "stream",
          "name": "stdout",
          "text": [
            "96.88542825361512\n"
          ]
        }
      ]
    },
    {
      "cell_type": "code",
      "source": [
        "import matplotlib.pyplot as plt\n",
        "\n",
        "model_accuracy = {\n",
        "    1: 90.55555462837219,\n",
        "    2: 97.22222089767456,\n",
        "    3: 97.77777791023254,\n",
        "    4: 99.16666746139526,\n",
        "    5: 96.88542825361512\n",
        "}\n",
        "\n",
        "plt.bar(range(len(model_accuracy)), list(model_accuracy.values()), align='center')\n",
        "plt.xticks(range(len(model_accuracy)), list(model_accuracy.keys()))\n",
        "plt.ylabel('Accuracy')\n",
        "plt.xlabel('Model Number')\n",
        "plt.title('Model Accuracy')\n",
        "plt.ylim([80, 100]) # set y-axis limit to show only the range from 80 to 100\n",
        "\n",
        "plt.show()\n",
        "\n"
      ],
      "metadata": {
        "colab": {
          "base_uri": "https://localhost:8080/",
          "height": 472
        },
        "id": "1AHpMwXBB9nS",
        "outputId": "d5e7c336-1b3d-4ec6-faef-b1a0a41af5ff"
      },
      "execution_count": null,
      "outputs": [
        {
          "output_type": "display_data",
          "data": {
            "text/plain": [
              "<Figure size 640x480 with 1 Axes>"
            ],
            "image/png": "[encoded data removed]"
          },
          "metadata": {}
        }
      ]
    },
    {
      "cell_type": "code",
      "source": [
        "#accuracy obtained is 96.885\n"
      ],
      "metadata": {
        "id": "6-FZmlm5dh9G"
      },
      "execution_count": null,
      "outputs": []
    }
  ]
}